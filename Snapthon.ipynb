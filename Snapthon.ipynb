{
  "cells": [
    {
      "cell_type": "markdown",
      "metadata": {
        "id": "8PEmcf31s5LT"
      },
      "source": [
        "[![Open In Colab](https://colab.research.google.com/assets/colab-badge.svg)](https://colab.research.google.com/github/elsamuel27/snapthon/blob/main/Snapthon.ipynb)"
      ]
    },
    {
      "cell_type": "code",
      "execution_count": 15,
      "metadata": {
        "cellView": "form",
        "id": "NJ6e707pNFNw"
      },
      "outputs": [],
      "source": [
        "#@title # Paso 1: Rellena el formulario a continuación y ejecuta todas las celdas\n",
        "\n",
        "mult = \"Playlist\" #@param [\"Video\", \"Playlist\"]\n",
        "link = \"https://youtube.com/playlist?list=PLnErfpyW0Y5LgjrwKwu3E2OE2TbqXqBvv\" #@param {type: \"string\"}\n",
        "ft = \"Audio\" #@param [\"Video\", \"Audio\"]\n",
        "format = \"mp3\" #@param [\"mp3\", \"mp4\"] {allow-input: true}\n",
        "route = \"/content/Descargados\"\n",
        "purification = True #@param {type: \"boolean\"}\n",
        "#@markdown La purificación es un proceso que hace que la música sea más propensa a ser compatible con coches, casets, etc, pero aumenta mucho el tiempo de descarga. Actívala marcando la casilla de arriba. No tiene ningún efecto al momento de descargar vídeo, por lo que se desactivará automáticamente\n",
        "zip = True #@param {type: \"boolean\"}\n",
        "#@markdown Si vas a descargar una playlist con bastantes vídeos, es recomendable que marques la casilla de arriba para recibir tu contenido en un archivo ZIP\n",
        "if ft != \"Audio\" and purification:\n",
        "    purification = False"
      ]
    },
    {
      "cell_type": "markdown",
      "metadata": {
        "id": "5PAU6SP7oRpZ"
      },
      "source": [
        "Para ejecutar todas las celdas haz click en `Entorno de ejecución > Ejecutar todas`, o pulsa `Ctrl + F9`"
      ]
    },
    {
      "cell_type": "markdown",
      "metadata": {
        "id": "vBjkaLcUtSrv"
      },
      "source": [
        "# Paso 2: Espera. En breve tendrás tus descargas listas"
      ]
    },
    {
      "cell_type": "code",
      "execution_count": 2,
      "metadata": {
        "cellView": "form",
        "colab": {
          "base_uri": "https://localhost:8080/"
        },
        "id": "EkiFvP-ktWM1",
        "outputId": "d2d03033-6873-48fd-b371-be97cd16a793"
      },
      "outputs": [
        {
          "name": "stdout",
          "output_type": "stream",
          "text": [
            "Looking in indexes: https://pypi.org/simple, https://us-python.pkg.dev/colab-wheels/public/simple/\n",
            "Requirement already satisfied: pip in /usr/local/lib/python3.9/dist-packages (22.0.4)\n",
            "Collecting pip\n",
            "  Downloading pip-23.0.1-py3-none-any.whl (2.1 MB)\n",
            "\u001b[2K     \u001b[90m━━━━━━━━━━━━━━━━━━━━━━━━━━━━━━━━━━━━━━━━\u001b[0m \u001b[32m2.1/2.1 MB\u001b[0m \u001b[31m23.9 MB/s\u001b[0m eta \u001b[36m0:00:00\u001b[0m\n",
            "\u001b[?25hInstalling collected packages: pip\n",
            "  Attempting uninstall: pip\n",
            "    Found existing installation: pip 22.0.4\n",
            "    Uninstalling pip-22.0.4:\n",
            "      Successfully uninstalled pip-22.0.4\n",
            "Successfully installed pip-23.0.1\n",
            "Hit:1 http://archive.ubuntu.com/ubuntu focal InRelease\n",
            "Get:2 http://archive.ubuntu.com/ubuntu focal-updates InRelease [114 kB]\n",
            "Get:3 https://cloud.r-project.org/bin/linux/ubuntu focal-cran40/ InRelease [3,622 B]\n",
            "Hit:4 https://developer.download.nvidia.com/compute/cuda/repos/ubuntu2004/x86_64  InRelease\n",
            "Get:5 http://security.ubuntu.com/ubuntu focal-security InRelease [114 kB]\n",
            "Hit:6 http://ppa.launchpad.net/c2d4u.team/c2d4u4.0+/ubuntu focal InRelease\n",
            "Get:7 http://archive.ubuntu.com/ubuntu focal-backports InRelease [108 kB]\n",
            "Hit:8 http://ppa.launchpad.net/cran/libgit2/ubuntu focal InRelease\n",
            "Get:9 http://ppa.launchpad.net/deadsnakes/ppa/ubuntu focal InRelease [18.1 kB]\n",
            "Hit:10 http://ppa.launchpad.net/graphics-drivers/ppa/ubuntu focal InRelease\n",
            "Get:11 http://archive.ubuntu.com/ubuntu focal-updates/universe amd64 Packages [1,314 kB]\n",
            "Hit:12 http://ppa.launchpad.net/ubuntugis/ppa/ubuntu focal InRelease\n",
            "Get:13 http://archive.ubuntu.com/ubuntu focal-updates/main amd64 Packages [3,026 kB]\n",
            "Get:14 http://security.ubuntu.com/ubuntu focal-security/restricted amd64 Packages [2,003 kB]\n",
            "Get:15 http://ppa.launchpad.net/deadsnakes/ppa/ubuntu focal/main amd64 Packages [29.5 kB]\n",
            "Get:16 http://security.ubuntu.com/ubuntu focal-security/main amd64 Packages [2,549 kB]\n",
            "Get:17 http://security.ubuntu.com/ubuntu focal-security/universe amd64 Packages [1,019 kB]\n",
            "Fetched 10.3 MB in 3s (3,410 kB/s)\n",
            "Reading package lists... Done\n",
            "Building dependency tree       \n",
            "Reading state information... Done\n",
            "23 packages can be upgraded. Run 'apt list --upgradable' to see them.\n"
          ]
        }
      ],
      "source": [
        "#@title Actualizaciones\n",
        "\n",
        "!pip install -U pip\n",
        "!sudo apt update -y"
      ]
    },
    {
      "cell_type": "code",
      "execution_count": 7,
      "metadata": {
        "colab": {
          "base_uri": "https://localhost:8080/"
        },
        "id": "aNAx1X8rUvAW",
        "outputId": "7789a395-1a18-42a5-a271-480f780f27f8"
      },
      "outputs": [
        {
          "name": "stdout",
          "output_type": "stream",
          "text": [
            "Looking in indexes: https://pypi.org/simple, https://us-python.pkg.dev/colab-wheels/public/simple/\n",
            "Collecting pytube\n",
            "  Downloading pytube-12.1.2-py3-none-any.whl (57 kB)\n",
            "\u001b[2K     \u001b[90m━━━━━━━━━━━━━━━━━━━━━━━━━━━━━━━━━━━━━━━━\u001b[0m \u001b[32m57.0/57.0 kB\u001b[0m \u001b[31m2.7 MB/s\u001b[0m eta \u001b[36m0:00:00\u001b[0m\n",
            "\u001b[?25hCollecting pydub\n",
            "  Downloading pydub-0.25.1-py2.py3-none-any.whl (32 kB)\n",
            "Installing collected packages: pydub, pytube\n",
            "Successfully installed pydub-0.25.1 pytube-12.1.2\n",
            "\u001b[33mWARNING: Running pip as the 'root' user can result in broken permissions and conflicting behaviour with the system package manager. It is recommended to use a virtual environment instead: https://pip.pypa.io/warnings/venv\u001b[0m\u001b[33m\n",
            "Reading package lists... Done\n",
            "Building dependency tree       \n",
            "Reading state information... Done\n",
            "zip is already the newest version (3.0-11build1).\n",
            "0 upgraded, 0 newly installed, 0 to remove and 23 not upgraded.\n"
          ]
        }
      ],
      "source": [
        "#@title Instalaciones\n",
        "with open(\"requirements.txt\", \"a\") as r:\n",
        "  r.write(\"pytube\\n\")\n",
        "  if purification:\n",
        "    r.write(\"pydub\\n\")\n",
        "  r.close()\n",
        "\n",
        "!pip install -r requirements.txt\n",
        "!sudo apt install zip -y"
      ]
    },
    {
      "cell_type": "code",
      "execution_count": 8,
      "metadata": {
        "cellView": "form",
        "id": "9i6RxfX-APC1"
      },
      "outputs": [],
      "source": [
        "#@title Importaciones\n",
        "\n",
        "import os\n",
        "from pytube import YouTube\n",
        "from pytube import Playlist\n",
        "try:\n",
        "    from google.colab import files\n",
        "except:\n",
        "    print(\"Uso fuera de Google Colab activado\")\n",
        "if purification:\n",
        "    from pydub import AudioSegment"
      ]
    },
    {
      "cell_type": "markdown",
      "metadata": {
        "id": "Jwtp-Zgqj2aa"
      },
      "source": [
        "Una desventaja de que los nombres de los archivos descargados sean los títulos de los vídeos, es que pueden contener caracteres incompatibles con el sistema de archivos. Una solución sencilla que se me ha ocurrido es la siguiente: \n",
        "\n",
        "- Creamos una lista con todos los caracteres no permitidos por Windows (Pues Linux admite unos cuántos más y para curar en salud mejor tener en cuenta más caracteres)\n",
        "- En vez de usar el título directamente, lo almacenamos en otra variable, y acto seguido usamos el método `.replace()` de las cadenas de caracteres para reemplazar los caracteres no permitidos por nada, ergo, borrarlos"
      ]
    },
    {
      "cell_type": "code",
      "execution_count": 9,
      "metadata": {
        "cellView": "form",
        "colab": {
          "base_uri": "https://localhost:8080/"
        },
        "id": "gS23I5KUv040",
        "outputId": "2a2bd251-31ba-40a6-dfe8-7bca3113b25a"
      },
      "outputs": [
        {
          "name": "stdout",
          "output_type": "stream",
          "text": [
            "+1 vídeo en la carpeta\n",
            "+1 vídeo en la carpeta\n"
          ]
        }
      ],
      "source": [
        "#@title Descargas en el entorno\n",
        "\n",
        "characters = [\"\\\\\", \"/\", \":\", \"*\", \"?\", \"\\\"\", \"<\", \">\", \"|\"]\n",
        "\n",
        "if mult == \"Video\":\n",
        "    yt = YouTube(link)\n",
        "    title = yt.title\n",
        "    for c in characters:\n",
        "      title = title.replace(c, \"\")\n",
        "    file = f\"{title}.{format}\"\n",
        "\n",
        "    if ft == \"Video\":\n",
        "      yd = yt.streams.get_highest_resolution()\n",
        "      yd.download(route, file)\n",
        "      print(\"¡Vídeo descargado! Hasta luego :D\")\n",
        "    elif ft == \"Audio\":\n",
        "      yd = yt.streams.get_audio_only()\n",
        "      yd.download(route, file)\n",
        "      print(\"¡Vídeo descargado! Hasta luego :D\")\n",
        "elif mult == \"Playlist\":\n",
        "    pl = Playlist(link)\n",
        "    if ft == \"Video\":\n",
        "      for video in pl.videos:\n",
        "        title = video.title\n",
        "        for c in characters:\n",
        "          title = title.replace(c, \"\")\n",
        "        file = f\"{title}.{format}\"\n",
        "        try:\n",
        "          yd = video.streams.get_highest_resolution()\n",
        "          yd.download(route, file)\n",
        "          print(\"+1 vídeo en la carpeta\")\n",
        "        except:\n",
        "          print(\"No se puede acceder a los datos de este vídeo. Saltamos al siguiente\")\n",
        "    elif ft == \"Audio\":\n",
        "      for video in pl.videos:\n",
        "        title = video.title\n",
        "        for c in characters:\n",
        "          title = title.replace(c, \"\")\n",
        "        try:\n",
        "          yd = video.streams.get_audio_only()\n",
        "          yd.download(route, f\"{title}.{format}\")\n",
        "          print(\"+1 vídeo en la carpeta\")\n",
        "        except:\n",
        "          print(\"No se puede acceder a los datos de este vídeo. Saltamos al siguiente\")"
      ]
    },
    {
      "cell_type": "code",
      "execution_count": 12,
      "metadata": {
        "id": "maGu-7KQj2ac"
      },
      "outputs": [],
      "source": [
        "#@title Purificación (Si se ha activado)\n",
        "if purification:\n",
        "    input_folder = \"/content/Descargados\"\n",
        "    output_folder = \"/content/PDescargados\"\n",
        "    if not os.path.exists(output_folder):\n",
        "        os.makedirs(output_folder)\n",
        "\n",
        "    for file_name in os.listdir(input_folder):\n",
        "        input_file_path = os.path.join(input_folder, file_name)\n",
        "        output_file_path = os.path.join(output_folder, file_name.rsplit('.', 1)[0] + '.mp3')\n",
        "        sound = AudioSegment.from_file(input_file_path)\n",
        "        sound.export(output_file_path, format='mp3')\n",
        "    os.system(\"mv ./PDescargados ./bySnapthon\")\n",
        "    os.system(\"rm -rf ./Descargados\")\n",
        "else:\n",
        "  os.system(\"mv ./Descargados ./bySnapthon\")"
      ]
    },
    {
      "cell_type": "code",
      "execution_count": 17,
      "metadata": {
        "colab": {
          "base_uri": "https://localhost:8080/",
          "height": 17
        },
        "id": "xxoWe4LCh_-a",
        "outputId": "5e1e192c-b8f2-4e9d-e979-ed64674e3d7c"
      },
      "outputs": [
        {
          "data": {
            "application/javascript": "\n    async function download(id, filename, size) {\n      if (!google.colab.kernel.accessAllowed) {\n        return;\n      }\n      const div = document.createElement('div');\n      const label = document.createElement('label');\n      label.textContent = `Downloading \"${filename}\": `;\n      div.appendChild(label);\n      const progress = document.createElement('progress');\n      progress.max = size;\n      div.appendChild(progress);\n      document.body.appendChild(div);\n\n      const buffers = [];\n      let downloaded = 0;\n\n      const channel = await google.colab.kernel.comms.open(id);\n      // Send a message to notify the kernel that we're ready.\n      channel.send({})\n\n      for await (const message of channel.messages) {\n        // Send a message to notify the kernel that we're ready.\n        channel.send({})\n        if (message.buffers) {\n          for (const buffer of message.buffers) {\n            buffers.push(buffer);\n            downloaded += buffer.byteLength;\n            progress.value = downloaded;\n          }\n        }\n      }\n      const blob = new Blob(buffers, {type: 'application/binary'});\n      const a = document.createElement('a');\n      a.href = window.URL.createObjectURL(blob);\n      a.download = filename;\n      div.appendChild(a);\n      a.click();\n      div.remove();\n    }\n  ",
            "text/plain": [
              "<IPython.core.display.Javascript object>"
            ]
          },
          "metadata": {},
          "output_type": "display_data"
        },
        {
          "data": {
            "application/javascript": "download(\"download_9b02878f-beaa-407d-b57f-3268927da3f1\", \"bySnapthon.zip\", 5254063)",
            "text/plain": [
              "<IPython.core.display.Javascript object>"
            ]
          },
          "metadata": {},
          "output_type": "display_data"
        }
      ],
      "source": [
        "#@title Descarga\n",
        "\n",
        "if zip:\n",
        "  os.system(\"zip -r /content/bySnapthon.zip ./bySnapthon\")\n",
        "  try:\n",
        "    files.download(\"/content/bySnapthon.zip\")\n",
        "  except:\n",
        "    print(\"Uso fuera de Google Colab detectado.\")\n",
        "else:\n",
        "  try:\n",
        "    for video in os.listdir(\"/content/bySnapthon\"):\n",
        "      files.download(f\"/content/bySnapthon/{video}\")\n",
        "  except:\n",
        "    print(\"Uso fuera de Google Colab detectado\")"
      ]
    },
    {
      "cell_type": "markdown",
      "metadata": {
        "id": "bUuV4b-66hyD"
      },
      "source": [
        "Recomendada la primera opción para listas con muchos vídeos, la segunda para unos pocos o directamente uno"
      ]
    },
    {
      "cell_type": "markdown",
      "metadata": {
        "id": "w8qor6gt7M30"
      },
      "source": [
        "# Paso 3: Disfruta el contenido descargado"
      ]
    }
  ],
  "metadata": {
    "colab": {
      "collapsed_sections": [
        "vBjkaLcUtSrv"
      ],
      "provenance": []
    },
    "kernelspec": {
      "display_name": "Python 3",
      "name": "python3"
    },
    "language_info": {
      "name": "python"
    }
  },
  "nbformat": 4,
  "nbformat_minor": 0
}
