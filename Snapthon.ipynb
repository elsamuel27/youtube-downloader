{
  "cells": [
    {
      "cell_type": "markdown",
      "metadata": {
        "id": "8PEmcf31s5LT"
      },
      "source": [
        "[![Open In Colab](https://colab.research.google.com/assets/colab-badge.svg)](https://colab.research.google.com/github/elsamuel27/snapthon/blob/main/Snapthon.ipynb)"
      ]
    },
    {
      "cell_type": "code",
      "source": [
        "#@title # Paso 1: Rellena el formulario a continuación y ejecuta la celda\n",
        "\n",
        "mult = \"Video\" #@param [\"Video\", \"Playlist\"]\n",
        "link = \"\" #@param {type: \"string\"}\n",
        "ft = \"Video\" #@param [\"Video\", \"Audio\"]\n",
        "format = \"mp4\" #@param [\"mp4\", \"mp3\"] {allow-input: true}\n",
        "route = \"/content/Descargados\""
      ],
      "metadata": {
        "cellView": "form",
        "id": "NJ6e707pNFNw"
      },
      "execution_count": null,
      "outputs": []
    },
    {
      "cell_type": "markdown",
      "source": [
        "# Paso 2: Ejecuta las celdas ocultas y espera"
      ],
      "metadata": {
        "id": "vBjkaLcUtSrv"
      }
    },
    {
      "cell_type": "code",
      "source": [
        "#@title Actualizar pip\n",
        "\n",
        "!pip install -U pip"
      ],
      "metadata": {
        "cellView": "form",
        "id": "EkiFvP-ktWM1"
      },
      "execution_count": null,
      "outputs": []
    },
    {
      "cell_type": "code",
      "execution_count": null,
      "metadata": {
        "id": "aNAx1X8rUvAW",
        "cellView": "form"
      },
      "outputs": [],
      "source": [
        "#@title Instalaciones\n",
        "\n",
        "!pip install pytube\n",
        "!sudo apt install zip -y"
      ]
    },
    {
      "cell_type": "code",
      "execution_count": null,
      "metadata": {
        "id": "9i6RxfX-APC1",
        "cellView": "form"
      },
      "outputs": [],
      "source": [
        "#@title Importaciones\n",
        "\n",
        "from pytube import YouTube\n",
        "from pytube import Playlist\n",
        "from google.colab import files"
      ]
    },
    {
      "cell_type": "code",
      "source": [
        "#@title Descargas en el entorno\n",
        "\n",
        "characters = [\"\\\\\", \"/\", \":\", \"*\", \"?\", \"\\\"\", \"<\", \">\", \"|\"]\n",
        "\n",
        "if mult == \"Video\":\n",
        "    yt = YouTube(link)\n",
        "    title = yt.title\n",
        "    for c in characters:\n",
        "      title = title.replace(c, \"\")\n",
        "    file = f\"{title}.{format}\"\n",
        "\n",
        "    if ft == \"Video\":\n",
        "        yd = yt.streams.get_highest_resolution()\n",
        "\n",
        "        yd.download(route, file)\n",
        "        print(\"¡Vídeo descargado! Hasta luego :D\")\n",
        "    elif ft == \"Audio\":\n",
        "        yd = yt.streams.get_audio_only()\n",
        "\n",
        "        yd.download(route, file)\n",
        "        print(\"¡Vídeo descargado! Hasta luego :D\")\n",
        "elif mult == \"Playlist\":\n",
        "    pl = Playlist(link)\n",
        "    if ft == \"Video\":\n",
        "        for video in pl.videos:\n",
        "            title = yt.title\n",
        "            for c in characters:\n",
        "              title = title.replace(c, \"\")\n",
        "            file = f\"{title}.{format}\"\n",
        "            try:\n",
        "                yd = video.streams.get_highest_resolution()\n",
        "                yd.download(route, file)\n",
        "                print(\"+1 vídeo en la carpeta\")\n",
        "            except:\n",
        "                print(\"No se puede acceder a los datos de este vídeo. Saltamos al siguiente\")\n",
        "    elif ft == \"Audio\":\n",
        "        for video in pl.videos:\n",
        "            title = video.title.replace(\"\\\"\", \"\")\n",
        "            title = title.replace(\"/\", \"-\")\n",
        "            try:\n",
        "                yd = video.streams.get_audio_only()\n",
        "                yd.download(route, f\"{title}.{format}\")\n",
        "                print(\"+1 vídeo en la carpeta\")\n",
        "            except:\n",
        "                print(\"No se puede acceder a los datos de este vídeo. Saltamos al siguiente\")"
      ],
      "metadata": {
        "cellView": "form",
        "id": "gS23I5KUv040"
      },
      "execution_count": null,
      "outputs": []
    },
    {
      "cell_type": "markdown",
      "metadata": {
        "id": "iLQ3hpLzKf3Q"
      },
      "source": [
        "# Paso 3: Elige la opción que más te convenga"
      ]
    },
    {
      "cell_type": "markdown",
      "source": [
        "Recomendada la primera opción para listas con muchos vídeos, la segunda para unos pocos o directamente uno"
      ],
      "metadata": {
        "id": "bUuV4b-66hyD"
      }
    },
    {
      "cell_type": "code",
      "execution_count": null,
      "metadata": {
        "id": "Rx9XVmlgZKJ4",
        "cellView": "form"
      },
      "outputs": [],
      "source": [
        "#@title Archivo ZIP\n",
        "\n",
        "!zip -r /content/Descargados.zip Descargados\n",
        "!rm -r Descargados\n",
        "\n",
        "files.download(\"/content/Descargados.zip\")"
      ]
    },
    {
      "cell_type": "code",
      "source": [
        "#@title Vídeo/s suelto/s\n",
        "\n",
        "import os\n",
        "\n",
        "for video in os.listdir(\"/content/Descargados\"):\n",
        "  files.download(f\"/content/{video}\")"
      ],
      "metadata": {
        "cellView": "form",
        "id": "70Hj_vTd6ZUf"
      },
      "execution_count": null,
      "outputs": []
    },
    {
      "cell_type": "markdown",
      "source": [
        "# Paso 4: Disfruta el contenido descargado"
      ],
      "metadata": {
        "id": "w8qor6gt7M30"
      }
    }
  ],
  "metadata": {
    "colab": {
      "provenance": [],
      "collapsed_sections": [
        "vBjkaLcUtSrv"
      ]
    },
    "kernelspec": {
      "display_name": "Python 3",
      "name": "python3"
    },
    "language_info": {
      "name": "python"
    }
  },
  "nbformat": 4,
  "nbformat_minor": 0
}