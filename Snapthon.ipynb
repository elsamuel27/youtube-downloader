{
  "cells": [
    {
      "cell_type": "markdown",
      "metadata": {
        "id": "8PEmcf31s5LT"
      },
      "source": [
        "[![Open In Colab](https://colab.research.google.com/assets/colab-badge.svg)](https://colab.research.google.com/github/elsamuel27/snapthon/blob/main/Snapthon.ipynb)"
      ]
    },
    {
      "cell_type": "code",
      "execution_count": null,
      "metadata": {
        "cellView": "form",
        "id": "NJ6e707pNFNw"
      },
      "outputs": [],
      "source": [
        "#@title # Paso 1: Rellena el formulario a continuación y ejecuta todas las celdas\n",
        "\n",
        "mult = \"Video\" #@param [\"Video\", \"Playlist\"]\n",
        "link = \"\" #@param {type: \"string\"}\n",
        "ft = \"Audio\" #@param [\"Video\", \"Audio\"]\n",
        "format = \"mp3\" #@param [\"mp3\", \"mp4\"] {allow-input: true}\n",
        "route = \"/content/Descargados\"\n",
        "purification = False #@param {type: \"boolean\"}\n",
        "#@markdown La purificación es un proceso que hace que la música sea más propensa a ser compatible con coches, casets, etc, pero aumenta mucho el tiempo de descarga. Actívala marcando la casilla de arriba. No tiene ningún efecto al momento de descargar vídeo, por lo que se desactivará automáticamente\n",
        "zip = False #@param {type: \"boolean\"}\n",
        "#@markdown Si vas a descargar una playlist con bastantes vídeos, es recomendable que marques la casilla de arriba para recibir tu contenido en un archivo ZIP\n",
        "if ft != \"Audio\" and purification:\n",
        "    purification = False"
      ]
    },
    {
      "cell_type": "markdown",
      "metadata": {
        "id": "5PAU6SP7oRpZ"
      },
      "source": [
        "Para ejecutar todas las celdas haz click en `Entorno de ejecución > Ejecutar todas`, o pulsa `Ctrl + F9`"
      ]
    },
    {
      "cell_type": "markdown",
      "metadata": {
        "id": "vBjkaLcUtSrv"
      },
      "source": [
        "# Paso 2: Espera. En breve tendrás tus descargas listas"
      ]
    },
    {
      "cell_type": "code",
      "execution_count": null,
      "metadata": {
        "cellView": "form",
        "id": "EkiFvP-ktWM1"
      },
      "outputs": [],
      "source": [
        "#@title Actualizaciones\n",
        "\n",
        "!pip install -U pip\n",
        "!sudo apt update -y"
      ]
    },
    {
      "cell_type": "code",
      "execution_count": null,
      "metadata": {
        "id": "aNAx1X8rUvAW"
      },
      "outputs": [],
      "source": [
        "#@title Instalaciones\n",
        "with open(\"requirements.txt\", \"a\") as r:\n",
        "  r.write(\"git+https://github.com/pytube/pytube.git\\n\")\n",
        "  if purification:\n",
        "    r.write(\"pydub\\n\")\n",
        "\n",
        "!pip install -r requirements.txt\n",
        "!sudo apt install zip -y"
      ]
    },
    {
      "cell_type": "code",
      "execution_count": null,
      "metadata": {
        "cellView": "form",
        "id": "9i6RxfX-APC1"
      },
      "outputs": [],
      "source": [
        "#@title Importaciones\n",
        "\n",
        "import os\n",
        "from pytube import YouTube, Playlist\n",
        "import threading\n",
        "try:\n",
        "    from google.colab import files\n",
        "except:\n",
        "    print(\"Uso fuera de Google Colab activado\")\n",
        "if purification:\n",
        "    from pydub import AudioSegment"
      ]
    },
    {
      "attachments": {},
      "cell_type": "markdown",
      "metadata": {
        "id": "Jwtp-Zgqj2aa"
      },
      "source": [
        "Una desventaja de que los nombres de los archivos descargados sean los títulos de los vídeos, es que pueden contener caracteres incompatibles con el sistema de archivos. Una solución sencilla que se me ha ocurrido es la siguiente: \n",
        "\n",
        "- Creamos una tupla con todos los caracteres no permitidos por Windows (Pues Linux admite unos cuántos más y para curar en salud mejor tener en cuenta más caracteres)\n",
        "- En vez de usar el título directamente, lo almacenamos en otra variable, y acto seguido usamos el método `.replace()` de las cadenas de caracteres para reemplazar los caracteres no permitidos por nada, ergo, borrarlos"
      ]
    },
    {
      "cell_type": "code",
      "execution_count": null,
      "metadata": {},
      "outputs": [],
      "source": [
        "char = (\"\\\\\", \"/\", \":\", \"*\", \"?\", \"\\\"\", \"<\", \">\", \"|\")\n",
        "\n",
        "def descargar(video, ft):\n",
        "  title = video.title\n",
        "  for c in char:\n",
        "    title = title.replace(c, \"\")\n",
        "  file = f\"{title}.{format}\"\n",
        "\n",
        "  if ft == \"Video\":\n",
        "    yd = video.streams.get_highest_resolution()\n",
        "    yd.download(route, file)\n",
        "    print(\"¡Vídeo descargado! Hasta luego :D\")\n",
        "  elif ft == \"Audio\":\n",
        "    yd = video.streams.get_audio_only()\n",
        "    yd.download(route, file)\n",
        "    print(\"¡Vídeo descargado! Hasta luego :D\")\n",
        "\n",
        "def purificar(entrada, salida):\n",
        "  audio = AudioSegment.from_file(entrada)\n",
        "\n",
        "  audio.export(salida, format='mp3')"
      ]
    },
    {
      "cell_type": "code",
      "execution_count": null,
      "metadata": {
        "cellView": "form",
        "id": "gS23I5KUv040"
      },
      "outputs": [],
      "source": [
        "#@title Descargas en el entorno\n",
        "\n",
        "if mult == \"Video\":\n",
        "    yt = YouTube(link)\n",
        "    descargar(yt, ft)\n",
        "elif mult == \"Playlist\":\n",
        "    hilos = []\n",
        "    pl = Playlist(link)\n",
        "    for video in pl.videos:\n",
        "        hilo = threading.Thread(target=descargar, args=(video,ft))\n",
        "        hilos.append(hilo)\n",
        "        hilo.start()\n",
        "\n",
        "    for hilo in hilos:\n",
        "        hilo.join()"
      ]
    },
    {
      "cell_type": "code",
      "execution_count": null,
      "metadata": {
        "id": "maGu-7KQj2ac"
      },
      "outputs": [],
      "source": [
        "#@title Purificación (Si se ha activado)\n",
        "if purification:\n",
        "    try:\n",
        "        hilos.clear()\n",
        "    except:\n",
        "        hilos = []\n",
        "    input_folder = \"/content/Descargados\"\n",
        "    output_folder = \"/content/bySnapthon\"\n",
        "    if not os.path.exists(output_folder):\n",
        "        os.makedirs(output_folder)\n",
        "\n",
        "    for file_name in os.listdir(input_folder):\n",
        "        input_file_path = os.path.join(input_folder, file_name)\n",
        "        output_file_path = os.path.join(output_folder, file_name.rsplit('.', 1)[0] + '.mp3')\n",
        "        \n",
        "        hilo = threading.Thread(target=purificar, args=(input_file_path,output_file_path))\n",
        "        hilos.append(hilo)\n",
        "        hilo.start()\n",
        "\n",
        "    for hilo in hilos:\n",
        "        hilo.join()\n",
        "\n",
        "    os.system(\"rm -rf ./Descargados\")\n",
        "else:\n",
        "  os.system(\"mv ./Descargados ./bySnapthon\")"
      ]
    },
    {
      "cell_type": "code",
      "execution_count": null,
      "metadata": {
        "id": "xxoWe4LCh_-a"
      },
      "outputs": [],
      "source": [
        "#@title Descarga\n",
        "\n",
        "if zip:\n",
        "  os.system(\"zip -r /content/bySnapthon.zip ./bySnapthon\")\n",
        "  try:\n",
        "    files.download(\"/content/bySnapthon.zip\")\n",
        "  except:\n",
        "    print(\"Uso fuera de Google Colab detectado.\")\n",
        "else:\n",
        "  try:\n",
        "    for video in os.listdir(\"/content/bySnapthon\"):\n",
        "      files.download(f\"/content/bySnapthon/{video}\")\n",
        "  except:\n",
        "    print(\"Uso fuera de Google Colab detectado\")"
      ]
    },
    {
      "cell_type": "markdown",
      "metadata": {
        "id": "w8qor6gt7M30"
      },
      "source": [
        "# Paso 3: Disfruta el contenido descargado"
      ]
    }
  ],
  "metadata": {
    "colab": {
      "collapsed_sections": [
        "vBjkaLcUtSrv"
      ],
      "provenance": []
    },
    "kernelspec": {
      "display_name": "Python 3",
      "name": "python3"
    },
    "language_info": {
      "name": "python"
    }
  },
  "nbformat": 4,
  "nbformat_minor": 0
}
