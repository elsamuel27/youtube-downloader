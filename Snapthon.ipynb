{
  "cells": [
    {
      "cell_type": "markdown",
      "metadata": {
        "id": "8PEmcf31s5LT"
      },
      "source": [
        "[![Open In Colab](https://colab.research.google.com/assets/colab-badge.svg)](https://colab.research.google.com/github/elsamuel27/snapthon/blob/main/Snapthon.ipynb)"
      ]
    },
    {
      "cell_type": "code",
      "execution_count": null,
      "metadata": {
        "id": "NJ6e707pNFNw",
        "cellView": "form"
      },
      "outputs": [],
      "source": [
        "#@title # Paso 1: Rellena el formulario a continuación y ejecuta todas las celdas\n",
        "\n",
        "mult = \"Video\" #@param [\"Video\", \"Playlist\"]\n",
        "link = \"\" #@param {type: \"string\"}\n",
        "ft = \"Audio\" #@param [\"Video\", \"Audio\"]\n",
        "format = \"mp3\" #@param [\"mp3\", \"mp4\"] {allow-input: true}\n",
        "route = \"/content/Descargados\"\n",
        "purification = False #@param {type: \"boolean\"}\n",
        "#@markdown La purificación es un proceso que hace que la música sea más propensa a ser compatible con coches, casets, etc, pero aumenta mucho el tiempo de descarga. Actívala marcando la casilla de arriba. No tiene ningún efecto al momento de descargar vídeo, por lo que se desactivará automáticamente\n",
        "zip = False #@param {type: \"boolean\"}\n",
        "#@markdown Si vas a descargar una playlist con bastantes vídeos, es recomendable que marques la casilla de arriba para recibir tu contenido en un archivo ZIP\n",
        "if ft != \"Audio\" and purification:\n",
        "    purification = False"
      ]
    },
    {
      "cell_type": "markdown",
      "source": [
        "Para ejecutar todas las celdas haz click en `Entorno de ejecución > Ejecutar todas`, o pulsa `Ctrl + F9`"
      ],
      "metadata": {
        "id": "5PAU6SP7oRpZ"
      }
    },
    {
      "cell_type": "markdown",
      "metadata": {
        "id": "vBjkaLcUtSrv"
      },
      "source": [
        "# Paso 2: Espera. En breve tendrás tus descargas listas"
      ]
    },
    {
      "cell_type": "code",
      "execution_count": null,
      "metadata": {
        "cellView": "form",
        "id": "EkiFvP-ktWM1"
      },
      "outputs": [],
      "source": [
        "#@title Actualizaciones\n",
        "\n",
        "!pip install -U pip\n",
        "!sudo apt update -y"
      ]
    },
    {
      "cell_type": "code",
      "execution_count": null,
      "metadata": {
        "cellView": "form",
        "id": "aNAx1X8rUvAW"
      },
      "outputs": [],
      "source": [
        "#@title Instalaciones\n",
        "with open(\"requirements.txt\", \"a\") as r:\n",
        "  r.write(\"pytube\")\n",
        "  if purification:\n",
        "    r.write(\"pydub\")\n",
        "\n",
        "!pip install -r requirements.txt\n",
        "!sudo apt install zip -y"
      ]
    },
    {
      "cell_type": "code",
      "execution_count": null,
      "metadata": {
        "cellView": "form",
        "id": "9i6RxfX-APC1"
      },
      "outputs": [],
      "source": [
        "#@title Importaciones\n",
        "\n",
        "import os\n",
        "from pytube import YouTube\n",
        "from pytube import Playlist\n",
        "try:\n",
        "    from google.colab import files\n",
        "except:\n",
        "    print(\"Uso fuera de Google Colab activado\")\n",
        "if purification:\n",
        "    from pydub import AudioSegment"
      ]
    },
    {
      "cell_type": "markdown",
      "metadata": {
        "id": "Jwtp-Zgqj2aa"
      },
      "source": [
        "Una desventaja de que los nombres de los archivos descargados sean los títulos de los vídeos, es que pueden contener caracteres incompatibles con el sistema de archivos. Una solución sencilla que se me ha ocurrido es la siguiente: \n",
        "\n",
        "- Creamos una lista con todos los caracteres no permitidos por Windows (Pues Linux admite unos cuántos más y para curar en salud mejor tener en cuenta más caracteres)\n",
        "- En vez de usar el título directamente, lo almacenamos en otra variable, y acto seguido usamos el método `.replace()` de las cadenas de caracteres para reemplazar los caracteres no permitidos por nada, ergo, borrarlos"
      ]
    },
    {
      "cell_type": "code",
      "execution_count": null,
      "metadata": {
        "cellView": "form",
        "id": "gS23I5KUv040"
      },
      "outputs": [],
      "source": [
        "#@title Descargas en el entorno\n",
        "\n",
        "characters = [\"\\\\\", \"/\", \":\", \"*\", \"?\", \"\\\"\", \"<\", \">\", \"|\"]\n",
        "\n",
        "if mult == \"Video\":\n",
        "    yt = YouTube(link)\n",
        "    title = yt.title\n",
        "    for c in characters:\n",
        "      title = title.replace(c, \"\")\n",
        "    file = f\"{title}.{format}\"\n",
        "\n",
        "    if ft == \"Video\":\n",
        "      yd = yt.streams.get_highest_resolution()\n",
        "      yd.download(route, file)\n",
        "      print(\"¡Vídeo descargado! Hasta luego :D\")\n",
        "    elif ft == \"Audio\":\n",
        "      yd = yt.streams.get_audio_only()\n",
        "      yd.download(route, file)\n",
        "      print(\"¡Vídeo descargado! Hasta luego :D\")\n",
        "elif mult == \"Playlist\":\n",
        "    pl = Playlist(link)\n",
        "    if ft == \"Video\":\n",
        "      for video in pl.videos:\n",
        "        title = video.title\n",
        "        for c in characters:\n",
        "          title = title.replace(c, \"\")\n",
        "        file = f\"{title}.{format}\"\n",
        "        try:\n",
        "          yd = video.streams.get_highest_resolution()\n",
        "          yd.download(route, file)\n",
        "          print(\"+1 vídeo en la carpeta\")\n",
        "        except:\n",
        "          print(\"No se puede acceder a los datos de este vídeo. Saltamos al siguiente\")\n",
        "    elif ft == \"Audio\":\n",
        "      for video in pl.videos:\n",
        "        title = video.title\n",
        "        for c in characters:\n",
        "          title = title.replace(c, \"\")\n",
        "        try:\n",
        "          yd = video.streams.get_audio_only()\n",
        "          yd.download(route, f\"{title}.{format}\")\n",
        "          print(\"+1 vídeo en la carpeta\")\n",
        "        except:\n",
        "          print(\"No se puede acceder a los datos de este vídeo. Saltamos al siguiente\")"
      ]
    },
    {
      "cell_type": "code",
      "execution_count": null,
      "metadata": {
        "id": "maGu-7KQj2ac",
        "cellView": "form"
      },
      "outputs": [],
      "source": [
        "#@title Purificación (Si se ha activado)\n",
        "if purification:\n",
        "    input_folder = \"/content/Descargados\"\n",
        "    output_folder = \"/content/PDescargados\"\n",
        "    if not os.path.exists(output_folder):\n",
        "        os.makedirs(output_folder)\n",
        "\n",
        "    for file_name in os.listdir(input_folder):\n",
        "        input_file_path = os.path.join(input_folder, file_name)\n",
        "        output_file_path = os.path.join(output_folder, file_name.rsplit('.', 1)[0] + '.mp3')\n",
        "        sound = AudioSegment.from_file(input_file_path)\n",
        "        sound.export(output_file_path, format='mp3')\n",
        "  os.system(\"mv ./PDescargados ./bySnapthon\")\n",
        "else:\n",
        "  os.system(\"mv ./Descargados ./bySnapthon\")"
      ]
    },
    {
      "cell_type": "code",
      "source": [
        "#@title Descarga\n",
        "\n",
        "if zip:\n",
        "  os.system(\"zip /content/bySnapthon.zip ./bySnapthon\")\n",
        "  try:\n",
        "    files.download(\"/content/bySnapthon.zip\")\n",
        "  except:\n",
        "    print(\"Uso fuera de Google Colab detectado.\")\n",
        "else:\n",
        "  try:\n",
        "    for video in os.listdir(\"/content/bySnapthon\"):\n",
        "      files.download(f\"/content/bySnapthon/{video}\")\n",
        "  except:\n",
        "    print(\"Uso fuera de Google Colab detectado\")"
      ],
      "metadata": {
        "id": "xxoWe4LCh_-a",
        "cellView": "form"
      },
      "execution_count": null,
      "outputs": []
    },
    {
      "cell_type": "markdown",
      "metadata": {
        "id": "bUuV4b-66hyD"
      },
      "source": [
        "Recomendada la primera opción para listas con muchos vídeos, la segunda para unos pocos o directamente uno"
      ]
    },
    {
      "cell_type": "markdown",
      "metadata": {
        "id": "w8qor6gt7M30"
      },
      "source": [
        "# Paso 3: Disfruta el contenido descargado"
      ]
    }
  ],
  "metadata": {
    "colab": {
      "collapsed_sections": [
        "vBjkaLcUtSrv"
      ],
      "provenance": []
    },
    "kernelspec": {
      "display_name": "Python 3",
      "name": "python3"
    },
    "language_info": {
      "name": "python"
    }
  },
  "nbformat": 4,
  "nbformat_minor": 0
}
